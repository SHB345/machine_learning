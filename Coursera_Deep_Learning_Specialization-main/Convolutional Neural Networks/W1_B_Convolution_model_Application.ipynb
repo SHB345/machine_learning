{
 "cells": [
  {
   "cell_type": "markdown",
   "metadata": {},
   "source": [
    "# Convolutional Neural Networks: Application\n",
    "\n",
    "Welcome to Course 4's second assignment! In this notebook, you will:\n",
    "\n",
    "- Create a mood classifer using the TF Keras Sequential API\n",
    "- Build a ConvNet to identify sign language digits using the TF Keras Functional API\n",
    "\n",
    "**After this assignment you will be able to:**\n",
    "\n",
    "- Build and train a ConvNet in TensorFlow for a __binary__ classification problem\n",
    "- Build and train a ConvNet in TensorFlow for a __multiclass__ classification problem\n",
    "- Explain different use cases for the Sequential and Functional APIs\n",
    "\n",
    "To complete this assignment, you should already be familiar with TensorFlow. If you are not, please refer back to the **TensorFlow Tutorial** of the third week of Course 2 (\"**Improving deep neural networks**\")."
   ]
  },
  {
   "cell_type": "markdown",
   "metadata": {},
   "source": [
    "## Table of Contents\n",
    "\n",
    "- [1 - Packages](#1)\n",
    "    - [1.1 - Load the Data and Split the Data into Train/Test Sets](#1-1)\n",
    "- [2 - Layers in TF Keras](#2)\n",
    "- [3 - The Sequential API](#3)\n",
    "    - [3.1 - Create the Sequential Model](#3-1)\n",
    "        - [Exercise 1 - happyModel](#ex-1)\n",
    "    - [3.2 - Train and Evaluate the Model](#3-2)\n",
    "- [4 - The Functional API](#4)\n",
    "    - [4.1 - Load the SIGNS Dataset](#4-1)\n",
    "    - [4.2 - Split the Data into Train/Test Sets](#4-2)\n",
    "    - [4.3 - Forward Propagation](#4-3)\n",
    "        - [Exercise 2 - convolutional_model](#ex-2)\n",
    "    - [4.4 - Train the Model](#4-4)\n",
    "- [5 - History Object](#5)\n",
    "- [6 - Bibliography](#6)"
   ]
  },
  {
   "cell_type": "markdown",
   "metadata": {},
   "source": [
    "<a name='1'></a>\n",
    "## 1 - Packages\n",
    "\n",
    "As usual, begin by loading in the packages."
   ]
  },
  {
   "cell_type": "code",
   "execution_count": 1,
   "metadata": {},
   "outputs": [],
   "source": [
    "import math\n",
    "import numpy as np\n",
    "import h5py\n",
    "import matplotlib.pyplot as plt\n",
    "from matplotlib.pyplot import imread\n",
    "import scipy\n",
    "from PIL import Image\n",
    "import pandas as pd\n",
    "import tensorflow as tf\n",
    "import tensorflow.keras.layers as tfl\n",
    "from tensorflow.python.framework import ops\n",
    "from cnn_utils import *\n",
    "from test_utils import summary, comparator\n",
    "\n",
    "%matplotlib inline\n",
    "np.random.seed(1)"
   ]
  },
  {
   "cell_type": "markdown",
   "metadata": {},
   "source": [
    "<a name='1-1'></a>\n",
    "### 1.1 - Load the Data and Split the Data into Train/Test Sets\n",
    "\n",
    "You'll be using the Happy House dataset for this part of the assignment, which contains images of peoples' faces. Your task will be to build a ConvNet that determines whether the people in the images are smiling or not -- because they only get to enter the house if they're smiling!  "
   ]
  },
  {
   "cell_type": "code",
   "execution_count": 2,
   "metadata": {},
   "outputs": [
    {
     "name": "stdout",
     "output_type": "stream",
     "text": [
      "number of training examples = 600\n",
      "number of test examples = 150\n",
      "X_train shape: (600, 64, 64, 3)\n",
      "Y_train shape: (600, 1)\n",
      "X_test shape: (150, 64, 64, 3)\n",
      "Y_test shape: (150, 1)\n"
     ]
    }
   ],
   "source": [
    "X_train_orig, Y_train_orig, X_test_orig, Y_test_orig, classes = load_happy_dataset()\n",
    "\n",
    "# Normalize image vectors\n",
    "X_train = X_train_orig/255.\n",
    "X_test = X_test_orig/255.\n",
    "\n",
    "# Reshape\n",
    "Y_train = Y_train_orig.T\n",
    "Y_test = Y_test_orig.T\n",
    "\n",
    "print (\"number of training examples = \" + str(X_train.shape[0]))\n",
    "print (\"number of test examples = \" + str(X_test.shape[0]))\n",
    "print (\"X_train shape: \" + str(X_train.shape))\n",
    "print (\"Y_train shape: \" + str(Y_train.shape))\n",
    "print (\"X_test shape: \" + str(X_test.shape))\n",
    "print (\"Y_test shape: \" + str(Y_test.shape))"
   ]
  },
  {
   "cell_type": "markdown",
   "metadata": {},
   "source": [
    "You can display the images contained in the dataset. Images are **64x64** pixels in RGB format (3 channels)."
   ]
  },
  {
   "cell_type": "code",
   "execution_count": 3,
   "metadata": {},
   "outputs": [
    {
     "data": {
      "image/png": "[encoded data removed]",
      "text/plain": [
       "<Figure size 432x288 with 1 Axes>"
      ]
     },
     "metadata": {
      "needs_background": "light"
     },
     "output_type": "display_data"
    }
   ],
   "source": [
    "index = 124\n",
    "plt.imshow(X_train_orig[index]) #display sample training image\n",
    "plt.show()"
   ]
  },
  {
   "cell_type": "markdown",
   "metadata": {},
   "source": [
    "<a name='2'></a>\n",
    "## 2 - Layers in TF Keras \n",
    "\n",
    "In the previous assignment, you created layers manually in numpy. In TF Keras, you don't have to write code directly to create layers. Rather, TF Keras has pre-defined layers you can use. \n",
    "\n",
    "When you create a layer in TF Keras, you are creating a function that takes some input and transforms it into an output you can reuse later. Nice and easy! "
   ]
  },
  {
   "cell_type": "markdown",
   "metadata": {},
   "source": [
    "<a name='3'></a>\n",
    "## 3 - The Sequential API\n",
    "\n",
    "In the previous assignment, you built helper functions using `numpy` to understand the mechanics behind convolutional neural networks. Most practical applications of deep learning today are built using programming frameworks, which have many built-in functions you can simply call. Keras is a high-level abstraction built on top of TensorFlow, which allows for even more simplified and optimized model creation and training. \n",
    "\n",
    "For the first part of this assignment, you'll create a model using TF Keras' Sequential API, which allows you to build layer by layer, and is ideal for building models where each layer has **exactly one** input tensor and **one** output tensor. \n",
    "\n",
    "As you'll see, using the Sequential API is simple and straightforward, but is only appropriate for simpler, more straightforward tasks. Later in this notebook you'll spend some time building with a more flexible, powerful alternative: the Functional API. \n",
    " "
   ]
  },
  {
   "cell_type": "markdown",
   "metadata": {},
   "source": [
    "<a name='3-1'></a>\n",
    "### 3.1 - Create the Sequential Model\n",
    "\n",
    "As mentioned earlier, the TensorFlow Keras Sequential API can be used to build simple models with layer operations that proceed in a sequential order. \n",
    "\n",
    "You can also add layers incrementally to a Sequential model with the `.add()` method, or remove them using the `.pop()` method, much like you would in a regular Python list.\n",
    "\n",
    "Actually, you can think of a Sequential model as behaving like a list of layers. Like Python lists, Sequential layers are ordered, and the order in which they are specified matters.  If your model is non-linear or contains layers with multiple inputs or outputs, a Sequential model wouldn't be the right choice!\n",
    "\n",
    "For any layer construction in Keras, you'll need to specify the input shape in advance. This is because in Keras, the shape of the weights is based on the shape of the inputs. The weights are only created when the model first sees some input data. Sequential models can be created by passing a list of layers to the Sequential constructor, like you will do in the next assignment.\n",
    "\n",
    "<a name='ex-1'></a>\n",
    "### Exercise 1 - happyModel\n",
    "\n",
    "Implement the `happyModel` function below to build the following model: `ZEROPAD2D -> CONV2D -> BATCHNORM -> RELU -> MAXPOOL -> FLATTEN -> DENSE`. Take help from [tf.keras.layers](https://www.tensorflow.org/api_docs/python/tf/keras/layers) \n",
    "\n",
    "Also, plug in the following parameters for all the steps:\n",
    "\n",
    " - [ZeroPadding2D](https://www.tensorflow.org/api_docs/python/tf/keras/layers/ZeroPadding2D): padding 3, input shape 64 x 64 x 3\n",
    " - [Conv2D](https://www.tensorflow.org/api_docs/python/tf/keras/layers/Conv2D): Use 32 7x7 filters, stride 1\n",
    " - [BatchNormalization](https://www.tensorflow.org/api_docs/python/tf/keras/layers/BatchNormalization): for axis 3\n",
    " - [ReLU](https://www.tensorflow.org/api_docs/python/tf/keras/layers/ReLU)\n",
    " - [MaxPool2D](https://www.tensorflow.org/api_docs/python/tf/keras/layers/MaxPool2D): Using default parameters\n",
    " - [Flatten](https://www.tensorflow.org/api_docs/python/tf/keras/layers/Flatten) the previous output.\n",
    " - Fully-connected ([Dense](https://www.tensorflow.org/api_docs/python/tf/keras/layers/Dense)) layer: Apply a fully connected layer with 1 neuron and a sigmoid activation. \n",
    " \n",
    " \n",
    " **Hint:**\n",
    " \n",
    " Use **tfl** as shorthand for **tensorflow.keras.layers**"
   ]
  },
  {
   "cell_type": "code",
   "execution_count": 9,
   "metadata": {
    "deletable": false,
    "nbgrader": {
     "cell_type": "code",
     "checksum": "95d28b191f257bdd5b70c7b8952559d5",
     "grade": false,
     "grade_id": "cell-0e56d3fc28b69aec",
     "locked": false,
     "schema_version": 3,
     "solution": true,
     "task": false
    }
   },
   "outputs": [],
   "source": [
    "# GRADED FUNCTION: happyModel\n",
    "\n",
    "def happyModel():\n",
    "    \"\"\"\n",
    "    Implements the forward propagation for the binary classification model:\n",
    "    ZEROPAD2D -> CONV2D -> BATCHNORM -> RELU -> MAXPOOL -> FLATTEN -> DENSE\n",
    "    \n",
    "    Note that for simplicity and grading purposes, you'll hard-code all the values\n",
    "    such as the stride and kernel (filter) sizes. \n",
    "    Normally, functions should take these values as function parameters.\n",
    "    \n",
    "    Arguments:\n",
    "    None\n",
    "\n",
    "    Returns:\n",
    "    model -- TF Keras model (object containing the information for the entire training process) \n",
    "    \"\"\"\n",
    "    #X=tf.keras.layers.Input(shape=(64,64,3))\n",
    "    model = tf.keras.Sequential([\n",
    "            tf.keras.Input(shape=(64, 64, 3)),\n",
    "            ## ZeroPadding2D with padding 3, input shape of 64 x 64 x 3\n",
    "            tfl.ZeroPadding2D(padding=3),\n",
    "            ## Conv2D with 32 7x7 filters and stride of 1\n",
    "            tfl.Conv2D(32, 7, strides=1),\n",
    "            ## BatchNormalization for axis 3\n",
    "            tfl.BatchNormalization(axis=3),\n",
    "            ## ReLU\n",
    "            tfl.ReLU(),\n",
    "            ## Max Pooling 2D with default parameters\n",
    "            tfl.MaxPooling2D(),\n",
    "            ## Flatten layer\n",
    "            tfl.Flatten(),\n",
    "    \n",
    "            ## Dense layer with 1 unit for output & 'sigmoid' activation\n",
    "            tfl.Dense(1, activation='sigmoid')  \n",
    "            # YOUR CODE STARTS HERE\n",
    "            \n",
    "            \n",
    "            # YOUR CODE ENDS HERE\n",
    "        ])\n",
    "    \n",
    "    return model"
   ]
  },
  {
   "cell_type": "code",
   "execution_count": 10,
   "metadata": {
    "deletable": false,
    "editable": false,
    "nbgrader": {
     "cell_type": "code",
     "checksum": "8d3575c950e2e78149be2d05d671c80d",
     "grade": true,
     "grade_id": "cell-e3e1046e5c33d775",
     "locked": true,
     "points": 10,
     "schema_version": 3,
     "solution": false,
     "task": false
    }
   },
   "outputs": [
    {
     "name": "stdout",
     "output_type": "stream",
     "text": [
      "['ZeroPadding2D', (None, 70, 70, 3), 0, ((3, 3), (3, 3))]\n",
      "['Conv2D', (None, 64, 64, 32), 4736, 'valid', 'linear', 'GlorotUniform']\n",
      "['BatchNormalization', (None, 64, 64, 32), 128]\n",
      "['ReLU', (None, 64, 64, 32), 0]\n",
      "['MaxPooling2D', (None, 32, 32, 32), 0, (2, 2), (2, 2), 'valid']\n",
      "['Flatten', (None, 32768), 0]\n",
      "['Dense', (None, 1), 32769, 'sigmoid']\n",
      "\u001b[32mAll tests passed!\u001b[0m\n"
     ]
    }
   ],
   "source": [
    "happy_model = happyModel()\n",
    "# Print a summary for each layer\n",
    "for layer in summary(happy_model):\n",
    "    print(layer)\n",
    "    \n",
    "output = [['ZeroPadding2D', (None, 70, 70, 3), 0, ((3, 3), (3, 3))],\n",
    "            ['Conv2D', (None, 64, 64, 32), 4736, 'valid', 'linear', 'GlorotUniform'],\n",
    "            ['BatchNormalization', (None, 64, 64, 32), 128],\n",
    "            ['ReLU', (None, 64, 64, 32), 0],\n",
    "            ['MaxPooling2D', (None, 32, 32, 32), 0, (2, 2), (2, 2), 'valid'],\n",
    "            ['Flatten', (None, 32768), 0],\n",
    "            ['Dense', (None, 1), 32769, 'sigmoid']]\n",
    "    \n",
    "comparator(summary(happy_model), output)"
   ]
  },
  {
   "cell_type": "markdown",
   "metadata": {},
   "source": [
    "Now that your model is created, you can compile it for training with an optimizer and loss of your choice. When the string `accuracy` is specified as a metric, the type of accuracy used will be automatically converted based on the loss function used. This is one of the many optimizations built into TensorFlow that make your life easier! If you'd like to read more on how the compiler operates, check the docs [here](https://www.tensorflow.org/api_docs/python/tf/keras/Model#compile)."
   ]
  },
  {
   "cell_type": "code",
   "execution_count": 11,
   "metadata": {},
   "outputs": [],
   "source": [
    "happy_model.compile(optimizer='adam',\n",
    "                   loss='binary_crossentropy',\n",
    "                   metrics=['accuracy'])"
   ]
  },
  {
   "cell_type": "markdown",
   "metadata": {},
   "source": [
    "It's time to check your model's parameters with the `.summary()` method. This will display the types of layers you have, the shape of the outputs, and how many parameters are in each layer. "
   ]
  },
  {
   "cell_type": "code",
   "execution_count": 12,
   "metadata": {},
   "outputs": [
    {
     "name": "stdout",
     "output_type": "stream",
     "text": [
      "Model: \"sequential_1\"\n",
      "_________________________________________________________________\n",
      "Layer (type)                 Output Shape              Param #   \n",
      "=================================================================\n",
      "zero_padding2d_2 (ZeroPaddin (None, 70, 70, 3)         0         \n",
      "_________________________________________________________________\n",
      "conv2d_2 (Conv2D)            (None, 64, 64, 32)        4736      \n",
      "_________________________________________________________________\n",
      "batch_normalization_2 (Batch (None, 64, 64, 32)        128       \n",
      "_________________________________________________________________\n",
      "re_lu (ReLU)                 (None, 64, 64, 32)        0         \n",
      "_________________________________________________________________\n",
      "max_pooling2d_1 (MaxPooling2 (None, 32, 32, 32)        0         \n",
      "_________________________________________________________________\n",
      "flatten_1 (Flatten)          (None, 32768)             0         \n",
      "_________________________________________________________________\n",
      "dense_1 (Dense)              (None, 1)                 32769     \n",
      "=================================================================\n",
      "Total params: 37,633\n",
      "Trainable params: 37,569\n",
      "Non-trainable params: 64\n",
      "_________________________________________________________________\n"
     ]
    }
   ],
   "source": [
    "happy_model.summary()"
   ]
  },
  {
   "cell_type": "markdown",
   "metadata": {},
   "source": [
    "<a name='3-2'></a>\n",
    "### 3.2 - Train and Evaluate the Model\n",
    "\n",
    "After creating the model, compiling it with your choice of optimizer and loss function, and doing a sanity check on its contents, you are now ready to build! \n",
    "\n",
    "Simply call `.fit()` to train. That's it! No need for mini-batching, saving, or complex backpropagation computations. That's all been done for you, as you're using a TensorFlow dataset with the batches specified already. You do have the option to specify epoch number or minibatch size if you like (for example, in the case of an un-batched dataset)."
   ]
  },
  {
   "cell_type": "code",
   "execution_count": 13,
   "metadata": {},
   "outputs": [
    {
     "name": "stdout",
     "output_type": "stream",
     "text": [
      "Epoch 1/10\n",
      "38/38 [==============================] - 4s 102ms/step - loss: 0.9295 - accuracy: 0.7417\n",
      "Epoch 2/10\n",
      "38/38 [==============================] - 4s 97ms/step - loss: 0.2611 - accuracy: 0.8833\n",
      "Epoch 3/10\n",
      "38/38 [==============================] - 4s 97ms/step - loss: 0.2337 - accuracy: 0.9117\n",
      "Epoch 4/10\n",
      "38/38 [==============================] - 4s 97ms/step - loss: 0.1065 - accuracy: 0.9700\n",
      "Epoch 5/10\n",
      "38/38 [==============================] - 4s 97ms/step - loss: 0.0894 - accuracy: 0.9667\n",
      "Epoch 6/10\n",
      "38/38 [==============================] - 4s 100ms/step - loss: 0.0775 - accuracy: 0.9700\n",
      "Epoch 7/10\n",
      "38/38 [==============================] - 4s 97ms/step - loss: 0.1051 - accuracy: 0.9633\n",
      "Epoch 8/10\n",
      "38/38 [==============================] - 4s 95ms/step - loss: 0.0952 - accuracy: 0.9683\n",
      "Epoch 9/10\n",
      "38/38 [==============================] - 4s 100ms/step - loss: 0.0781 - accuracy: 0.9733\n",
      "Epoch 10/10\n",
      "38/38 [==============================] - 4s 97ms/step - loss: 0.0684 - accuracy: 0.9783\n"
     ]
    },
    {
     "data": {
      "text/plain": [
       "<tensorflow.python.keras.callbacks.History at 0x7ff09cea6590>"
      ]
     },
     "execution_count": 13,
     "metadata": {},
     "output_type": "execute_result"
    }
   ],
   "source": [
    "happy_model.fit(X_train, Y_train, epochs=10, batch_size=16)"
   ]
  },
  {
   "cell_type": "markdown",
   "metadata": {},
   "source": [
    "After that completes, just use `.evaluate()` to evaluate against your test set. This function will print the value of the loss function and the performance metrics specified during the compilation of the model. In this case, the `binary_crossentropy` and the `accuracy` respectively."
   ]
  },
  {
   "cell_type": "code",
   "execution_count": 14,
   "metadata": {},
   "outputs": [
    {
     "name": "stdout",
     "output_type": "stream",
     "text": [
      "5/5 [==============================] - 0s 25ms/step - loss: 1.2547 - accuracy: 0.7000\n"
     ]
    },
    {
     "data": {
      "text/plain": [
       "[1.2546883821487427, 0.699999988079071]"
      ]
     },
     "execution_count": 14,
     "metadata": {},
     "output_type": "execute_result"
    }
   ],
   "source": [
    "happy_model.evaluate(X_test, Y_test)"
   ]
  },
  {
   "cell_type": "markdown",
   "metadata": {},
   "source": [
    "Easy, right? But what if you need to build a model with shared layers, branches, or multiple inputs and outputs? This is where Sequential, with its beautifully simple yet limited functionality, won't be able to help you. \n",
    "\n",
    "Next up: Enter the Functional API, your slightly more complex, highly flexible friend.  "
   ]
  },
  {
   "cell_type": "markdown",
   "metadata": {},
   "source": [
    "<a name='4'></a>\n",
    "## 4 - The Functional API"
   ]
  },
  {
   "cell_type": "markdown",
   "metadata": {},
   "source": [
    "Welcome to the second half of the assignment, where you'll use Keras' flexible [Functional API](https://www.tensorflow.org/guide/keras/functional) to build a ConvNet that can differentiate between 6 sign language digits. \n",
    "\n",
    "The Functional API can handle models with non-linear topology, shared layers, as well as layers with multiple inputs or outputs. Imagine that, where the Sequential API requires the model to move in a linear fashion through its layers, the Functional API allows much more flexibility. Where Sequential is a straight line, a Functional model is a graph, where the nodes of the layers can connect in many more ways than one. \n",
    "\n",
    "In the visual example below, the one possible direction of the movement Sequential model is shown in contrast to a skip connection, which is just one of the many ways a Functional model can be constructed. A skip connection, as you might have guessed, skips some layer in the network and feeds the output to a later layer in the network. Don't worry, you'll be spending more time with skip connections very soon! "
   ]
  },
  {
   "cell_type": "markdown",
   "metadata": {},
   "source": [
    "<img src=\"images/seq_vs_func.png\" style=\"width:350px;height:200px;\">"
   ]
  },
  {
   "cell_type": "markdown",
   "metadata": {},
   "source": [
    "<a name='4-1'></a>\n",
    "### 4.1 - Load the SIGNS Dataset\n",
    "\n",
    "As a reminder, the SIGNS dataset is a collection of 6 signs representing numbers from 0 to 5."
   ]
  },
  {
   "cell_type": "code",
   "execution_count": 15,
   "metadata": {},
   "outputs": [],
   "source": [
    "# Loading the data (signs)\n",
    "X_train_orig, Y_train_orig, X_test_orig, Y_test_orig, classes = load_signs_dataset()"
   ]
  },
  {
   "cell_type": "markdown",
   "metadata": {},
   "source": [
    "<img src=\"images/SIGNS.png\" style=\"width:800px;height:300px;\">\n",
    "\n",
    "The next cell will show you an example of a labelled image in the dataset. Feel free to change the value of `index` below and re-run to see different examples. "
   ]
  },
  {
   "cell_type": "code",
   "execution_count": 16,
   "metadata": {},
   "outputs": [
    {
     "name": "stdout",
     "output_type": "stream",
     "text": [
      "y = 4\n"
     ]
    },
    {
     "data": {
      "image/png": "[encoded data removed]",
      "text/plain": [
       "<Figure size 432x288 with 1 Axes>"
      ]
     },
     "metadata": {
      "needs_background": "light"
     },
     "output_type": "display_data"
    }
   ],
   "source": [
    "# Example of an image from the dataset\n",
    "index = 9\n",
    "plt.imshow(X_train_orig[index])\n",
    "print (\"y = \" + str(np.squeeze(Y_train_orig[:, index])))"
   ]
  },
  {
   "cell_type": "markdown",
   "metadata": {},
   "source": [
    "<a name='4-2'></a>\n",
    "### 4.2 - Split the Data into Train/Test Sets\n",
    "\n",
    "In Course 2, you built a fully-connected network for this dataset. But since this is an image dataset, it is more natural to apply a ConvNet to it.\n",
    "\n",
    "To get started, let's examine the shapes of your data. "
   ]
  },
  {
   "cell_type": "code",
   "execution_count": 17,
   "metadata": {},
   "outputs": [
    {
     "name": "stdout",
     "output_type": "stream",
     "text": [
      "number of training examples = 1080\n",
      "number of test examples = 120\n",
      "X_train shape: (1080, 64, 64, 3)\n",
      "Y_train shape: (1080, 6)\n",
      "X_test shape: (120, 64, 64, 3)\n",
      "Y_test shape: (120, 6)\n"
     ]
    }
   ],
   "source": [
    "X_train = X_train_orig/255.\n",
    "X_test = X_test_orig/255.\n",
    "Y_train = convert_to_one_hot(Y_train_orig, 6).T\n",
    "Y_test = convert_to_one_hot(Y_test_orig, 6).T\n",
    "print (\"number of training examples = \" + str(X_train.shape[0]))\n",
    "print (\"number of test examples = \" + str(X_test.shape[0]))\n",
    "print (\"X_train shape: \" + str(X_train.shape))\n",
    "print (\"Y_train shape: \" + str(Y_train.shape))\n",
    "print (\"X_test shape: \" + str(X_test.shape))\n",
    "print (\"Y_test shape: \" + str(Y_test.shape))"
   ]
  },
  {
   "cell_type": "markdown",
   "metadata": {},
   "source": [
    "<a name='4-3'></a>\n",
    "### 4.3 - Forward Propagation\n",
    "\n",
    "In TensorFlow, there are built-in functions that implement the convolution steps for you. By now, you should be familiar with how TensorFlow builds computational graphs. In the [Functional API](https://www.tensorflow.org/guide/keras/functional), you create a graph of layers. This is what allows such great flexibility.\n",
    "\n",
    "However, the following model could also be defined using the Sequential API since the information flow is on a single line. But don't deviate. What we want you to learn is to use the functional API.\n",
    "\n",
    "Begin building your graph of layers by creating an input node that functions as a callable object:\n",
    "\n",
    "- **input_img = tf.keras.Input(shape=input_shape):** \n",
    "\n",
    "Then, create a new node in the graph of layers by calling a layer on the `input_img` object: \n",
    "\n",
    "- **tf.keras.layers.Conv2D(filters= ... , kernel_size= ... , padding='same')(input_img):** Read the full documentation on [Conv2D](https://www.tensorflow.org/api_docs/python/tf/keras/layers/Conv2D).\n",
    "\n",
    "- **tf.keras.layers.MaxPool2D(pool_size=(f, f), strides=(s, s), padding='same'):** `MaxPool2D()` downsamples your input using a window of size (f, f) and strides of size (s, s) to carry out max pooling over each window.  For max pooling, you usually operate on a single example at a time and a single channel at a time. Read the full documentation on [MaxPool2D](https://www.tensorflow.org/api_docs/python/tf/keras/layers/MaxPool2D).\n",
    "\n",
    "- **tf.keras.layers.ReLU():** computes the elementwise ReLU of Z (which can be any shape). You can read the full documentation on [ReLU](https://www.tensorflow.org/api_docs/python/tf/keras/layers/ReLU).\n",
    "\n",
    "- **tf.keras.layers.Flatten()**: given a tensor \"P\", this function takes each training (or test) example in the batch and flattens it into a 1D vector.  \n",
    "\n",
    "    * If a tensor P has the shape (batch_size,h,w,c), it returns a flattened tensor with shape (batch_size, k), where $k=h \\times w \\times c$.  \"k\" equals the product of all the dimension sizes other than the first dimension.\n",
    "    \n",
    "    * For example, given a tensor with dimensions [100, 2, 3, 4], it flattens the tensor to be of shape [100, 24], where 24 = 2 * 3 * 4.  You can read the full documentation on [Flatten](https://www.tensorflow.org/api_docs/python/tf/keras/layers/Flatten).\n",
    "\n",
    "- **tf.keras.layers.Dense(units= ... , activation='softmax')(F):** given the flattened input F, it returns the output computed using a fully connected layer. You can read the full documentation on [Dense](https://www.tensorflow.org/api_docs/python/tf/keras/layers/Dense).\n",
    "\n",
    "In the last function above (`tf.keras.layers.Dense()`), the fully connected layer automatically initializes weights in the graph and keeps on training them as you train the model. Hence, you did not need to initialize those weights when initializing the parameters.\n",
    "\n",
    "Lastly, before creating the model, you'll need to define the output using the last of the function's compositions (in this example, a Dense layer): \n",
    "\n",
    "- **outputs = tf.keras.layers.Dense(units=6, activation='softmax')(F)**\n",
    "\n",
    "\n",
    "#### Window, kernel, filter, pool\n",
    "\n",
    "The words \"kernel\" and \"filter\" are used to refer to the same thing. The word \"filter\" accounts for the amount of \"kernels\" that will be used in a single convolution layer. \"Pool\" is the name of the operation that takes the max or average value of the kernels. \n",
    "\n",
    "This is why the parameter `pool_size` refers to `kernel_size`, and you use `(f,f)` to refer to the filter size. \n",
    "\n",
    "Pool size and kernel size refer to the same thing in different objects - They refer to the shape of the window where the operation takes place. "
   ]
  },
  {
   "cell_type": "markdown",
   "metadata": {},
   "source": [
    "<a name='ex-2'></a>\n",
    "### Exercise 2 - convolutional_model\n",
    "\n",
    "Implement the `convolutional_model` function below to build the following model: `CONV2D -> RELU -> MAXPOOL -> CONV2D -> RELU -> MAXPOOL -> FLATTEN -> DENSE`. Use the functions above! \n",
    "\n",
    "Also, plug in the following parameters for all the steps:\n",
    "\n",
    " - [Conv2D](https://www.tensorflow.org/api_docs/python/tf/keras/layers/Conv2D): Use 8 4 by 4 filters, stride 1, padding is \"SAME\"\n",
    " - [ReLU](https://www.tensorflow.org/api_docs/python/tf/keras/layers/ReLU)\n",
    " - [MaxPool2D](https://www.tensorflow.org/api_docs/python/tf/keras/layers/MaxPool2D): Use an 8 by 8 filter size and an 8 by 8 stride, padding is \"SAME\"\n",
    " - **Conv2D**: Use 16 2 by 2 filters, stride 1, padding is \"SAME\"\n",
    " - **ReLU**\n",
    " - **MaxPool2D**: Use a 4 by 4 filter size and a 4 by 4 stride, padding is \"SAME\"\n",
    " - [Flatten](https://www.tensorflow.org/api_docs/python/tf/keras/layers/Flatten) the previous output.\n",
    " - Fully-connected ([Dense](https://www.tensorflow.org/api_docs/python/tf/keras/layers/Dense)) layer: Apply a fully connected layer with 6 neurons and a softmax activation. "
   ]
  },
  {
   "cell_type": "code",
   "execution_count": 22,
   "metadata": {
    "deletable": false,
    "nbgrader": {
     "cell_type": "code",
     "checksum": "f58643806aa8380c96225fc8b4c5e7aa",
     "grade": false,
     "grade_id": "cell-dac51744a9e03f51",
     "locked": false,
     "schema_version": 3,
     "solution": true,
     "task": false
    }
   },
   "outputs": [],
   "source": [
    "# GRADED FUNCTION: convolutional_model\n",
    "\n",
    "def convolutional_model(input_shape):\n",
    "    \"\"\"\n",
    "    Implements the forward propagation for the model:\n",
    "    CONV2D -> RELU -> MAXPOOL -> CONV2D -> RELU -> MAXPOOL -> FLATTEN -> DENSE\n",
    "    \n",
    "    Note that for simplicity and grading purposes, you'll hard-code some values\n",
    "    such as the stride and kernel (filter) sizes. \n",
    "    Normally, functions should take these values as function parameters.\n",
    "    \n",
    "    Arguments:\n",
    "    input_img -- input dataset, of shape (input_shape)\n",
    "\n",
    "    Returns:\n",
    "    model -- TF Keras model (object containing the information for the entire training process) \n",
    "    \"\"\"\n",
    "\n",
    "    input_img = tf.keras.Input(shape=input_shape)\n",
    "    ## CONV2D: 8 filters 4x4, stride of 1, padding 'SAME'\n",
    "    # Z1 = None\n",
    "    ## RELU\n",
    "    # A1 = None\n",
    "    ## MAXPOOL: window 8x8, stride 8, padding 'SAME'\n",
    "    # P1 = None\n",
    "    ## CONV2D: 16 filters 2x2, stride 1, padding 'SAME'\n",
    "    # Z2 = None\n",
    "    ## RELU\n",
    "    # A2 = None\n",
    "    ## MAXPOOL: window 4x4, stride 4, padding 'SAME'\n",
    "    # P2 = None\n",
    "    ## FLATTEN\n",
    "    # F = None\n",
    "    ## Dense layer\n",
    "    ## 6 neurons in output layer. Hint: one of the arguments should be \"activation='softmax'\" \n",
    "    # outputs = None\n",
    "    # YOUR CODE STARTS HERE\n",
    "    Z1=tf.keras.layers.Conv2D(8, 4, strides=1, padding='same')(input_img)\n",
    "    A1=tf.keras.layers.ReLU()(Z1)\n",
    "    P1=tf.keras.layers.MaxPool2D(8, strides=8, padding='same')(A1)\n",
    "    Z2=tf.keras.layers.Conv2D(16, 2, strides=1, padding='same')(P1)\n",
    "    A2=tf.keras.layers.ReLU()(Z2)\n",
    "    P2=tf.keras.layers.MaxPool2D(4, strides=4, padding='same')(A2)\n",
    "    F=tf.keras.layers.Flatten()(P2)\n",
    "    outputs=tf.keras.layers.Dense(6, activation='softmax')(F)\n",
    "    # YOUR CODE ENDS HERE\n",
    "    model = tf.keras.Model(inputs=input_img, outputs=outputs)\n",
    "    return model"
   ]
  },
  {
   "cell_type": "code",
   "execution_count": 23,
   "metadata": {
    "deletable": false,
    "editable": false,
    "nbgrader": {
     "cell_type": "code",
     "checksum": "483d626949930a0b0ef20997e7c6ba72",
     "grade": true,
     "grade_id": "cell-45d22e92042174c9",
     "locked": true,
     "points": 10,
     "schema_version": 3,
     "solution": false,
     "task": false
    }
   },
   "outputs": [
    {
     "name": "stdout",
     "output_type": "stream",
     "text": [
      "Model: \"functional_4\"\n",
      "_________________________________________________________________\n",
      "Layer (type)                 Output Shape              Param #   \n",
      "=================================================================\n",
      "input_6 (InputLayer)         [(None, 64, 64, 3)]       0         \n",
      "_________________________________________________________________\n",
      "conv2d_7 (Conv2D)            (None, 64, 64, 8)         392       \n",
      "_________________________________________________________________\n",
      "re_lu_5 (ReLU)               (None, 64, 64, 8)         0         \n",
      "_________________________________________________________________\n",
      "max_pooling2d_6 (MaxPooling2 (None, 8, 8, 8)           0         \n",
      "_________________________________________________________________\n",
      "conv2d_8 (Conv2D)            (None, 8, 8, 16)          528       \n",
      "_________________________________________________________________\n",
      "re_lu_6 (ReLU)               (None, 8, 8, 16)          0         \n",
      "_________________________________________________________________\n",
      "max_pooling2d_7 (MaxPooling2 (None, 2, 2, 16)          0         \n",
      "_________________________________________________________________\n",
      "flatten_4 (Flatten)          (None, 64)                0         \n",
      "_________________________________________________________________\n",
      "dense_4 (Dense)              (None, 6)                 390       \n",
      "=================================================================\n",
      "Total params: 1,310\n",
      "Trainable params: 1,310\n",
      "Non-trainable params: 0\n",
      "_________________________________________________________________\n",
      "\u001b[32mAll tests passed!\u001b[0m\n"
     ]
    }
   ],
   "source": [
    "conv_model = convolutional_model((64, 64, 3))\n",
    "conv_model.compile(optimizer='adam',\n",
    "                  loss='categorical_crossentropy',\n",
    "                  metrics=['accuracy'])\n",
    "conv_model.summary()\n",
    "    \n",
    "output = [['InputLayer', [(None, 64, 64, 3)], 0],\n",
    "        ['Conv2D', (None, 64, 64, 8), 392, 'same', 'linear', 'GlorotUniform'],\n",
    "        ['ReLU', (None, 64, 64, 8), 0],\n",
    "        ['MaxPooling2D', (None, 8, 8, 8), 0, (8, 8), (8, 8), 'same'],\n",
    "        ['Conv2D', (None, 8, 8, 16), 528, 'same', 'linear', 'GlorotUniform'],\n",
    "        ['ReLU', (None, 8, 8, 16), 0],\n",
    "        ['MaxPooling2D', (None, 2, 2, 16), 0, (4, 4), (4, 4), 'same'],\n",
    "        ['Flatten', (None, 64), 0],\n",
    "        ['Dense', (None, 6), 390, 'softmax']]\n",
    "    \n",
    "comparator(summary(conv_model), output)"
   ]
  },
  {
   "cell_type": "markdown",
   "metadata": {},
   "source": [
    "Both the Sequential and Functional APIs return a TF Keras model object. The only difference is how inputs are handled inside the object model! "
   ]
  },
  {
   "cell_type": "markdown",
   "metadata": {},
   "source": [
    "<a name='4-4'></a>\n",
    "### 4.4 - Train the Model"
   ]
  },
  {
   "cell_type": "code",
   "execution_count": 24,
   "metadata": {},
   "outputs": [
    {
     "name": "stdout",
     "output_type": "stream",
     "text": [
      "Epoch 1/100\n",
      "17/17 [==============================] - 2s 112ms/step - loss: 1.8124 - accuracy: 0.1676 - val_loss: 1.7932 - val_accuracy: 0.1583\n",
      "Epoch 2/100\n",
      "17/17 [==============================] - 2s 107ms/step - loss: 1.7900 - accuracy: 0.1602 - val_loss: 1.7881 - val_accuracy: 0.1167\n",
      "Epoch 3/100\n",
      "17/17 [==============================] - 2s 106ms/step - loss: 1.7857 - accuracy: 0.1935 - val_loss: 1.7857 - val_accuracy: 0.2500\n",
      "Epoch 4/100\n",
      "17/17 [==============================] - 2s 106ms/step - loss: 1.7831 - accuracy: 0.2222 - val_loss: 1.7829 - val_accuracy: 0.2000\n",
      "Epoch 5/100\n",
      "17/17 [==============================] - 2s 106ms/step - loss: 1.7800 - accuracy: 0.2463 - val_loss: 1.7797 - val_accuracy: 0.1833\n",
      "Epoch 6/100\n",
      "17/17 [==============================] - 2s 106ms/step - loss: 1.7759 - accuracy: 0.2481 - val_loss: 1.7745 - val_accuracy: 0.2250\n",
      "Epoch 7/100\n",
      "17/17 [==============================] - 2s 106ms/step - loss: 1.7695 - accuracy: 0.2685 - val_loss: 1.7699 - val_accuracy: 0.2250\n",
      "Epoch 8/100\n",
      "17/17 [==============================] - 2s 101ms/step - loss: 1.7631 - accuracy: 0.2981 - val_loss: 1.7640 - val_accuracy: 0.3000\n",
      "Epoch 9/100\n",
      "17/17 [==============================] - 2s 106ms/step - loss: 1.7553 - accuracy: 0.3287 - val_loss: 1.7576 - val_accuracy: 0.3000\n",
      "Epoch 10/100\n",
      "17/17 [==============================] - 2s 111ms/step - loss: 1.7459 - accuracy: 0.3537 - val_loss: 1.7501 - val_accuracy: 0.3083\n",
      "Epoch 11/100\n",
      "17/17 [==============================] - 2s 106ms/step - loss: 1.7346 - accuracy: 0.3593 - val_loss: 1.7399 - val_accuracy: 0.3083\n",
      "Epoch 12/100\n",
      "17/17 [==============================] - 2s 106ms/step - loss: 1.7207 - accuracy: 0.3750 - val_loss: 1.7273 - val_accuracy: 0.3167\n",
      "Epoch 13/100\n",
      "17/17 [==============================] - 2s 111ms/step - loss: 1.7039 - accuracy: 0.3963 - val_loss: 1.7114 - val_accuracy: 0.3417\n",
      "Epoch 14/100\n",
      "17/17 [==============================] - 2s 105ms/step - loss: 1.6846 - accuracy: 0.4093 - val_loss: 1.6930 - val_accuracy: 0.3583\n",
      "Epoch 15/100\n",
      "17/17 [==============================] - 2s 106ms/step - loss: 1.6622 - accuracy: 0.4231 - val_loss: 1.6720 - val_accuracy: 0.3667\n",
      "Epoch 16/100\n",
      "17/17 [==============================] - 2s 111ms/step - loss: 1.6372 - accuracy: 0.4352 - val_loss: 1.6492 - val_accuracy: 0.3917\n",
      "Epoch 17/100\n",
      "17/17 [==============================] - 2s 106ms/step - loss: 1.6103 - accuracy: 0.4583 - val_loss: 1.6250 - val_accuracy: 0.4167\n",
      "Epoch 18/100\n",
      "17/17 [==============================] - 2s 106ms/step - loss: 1.5808 - accuracy: 0.4685 - val_loss: 1.6000 - val_accuracy: 0.4333\n",
      "Epoch 19/100\n",
      "17/17 [==============================] - 2s 101ms/step - loss: 1.5488 - accuracy: 0.4843 - val_loss: 1.5733 - val_accuracy: 0.4417\n",
      "Epoch 20/100\n",
      "17/17 [==============================] - 2s 106ms/step - loss: 1.5153 - accuracy: 0.4954 - val_loss: 1.5446 - val_accuracy: 0.4417\n",
      "Epoch 21/100\n",
      "17/17 [==============================] - 2s 111ms/step - loss: 1.4786 - accuracy: 0.5167 - val_loss: 1.5121 - val_accuracy: 0.4250\n",
      "Epoch 22/100\n",
      "17/17 [==============================] - 2s 111ms/step - loss: 1.4374 - accuracy: 0.5380 - val_loss: 1.4750 - val_accuracy: 0.4417\n",
      "Epoch 23/100\n",
      "17/17 [==============================] - 2s 106ms/step - loss: 1.3944 - accuracy: 0.5583 - val_loss: 1.4341 - val_accuracy: 0.4833\n",
      "Epoch 24/100\n",
      "17/17 [==============================] - 2s 106ms/step - loss: 1.3500 - accuracy: 0.5898 - val_loss: 1.3917 - val_accuracy: 0.5083\n",
      "Epoch 25/100\n",
      "17/17 [==============================] - 2s 106ms/step - loss: 1.3057 - accuracy: 0.6028 - val_loss: 1.3515 - val_accuracy: 0.5500\n",
      "Epoch 26/100\n",
      "17/17 [==============================] - 2s 106ms/step - loss: 1.2620 - accuracy: 0.6139 - val_loss: 1.3095 - val_accuracy: 0.5583\n",
      "Epoch 27/100\n",
      "17/17 [==============================] - 2s 106ms/step - loss: 1.2170 - accuracy: 0.6306 - val_loss: 1.2686 - val_accuracy: 0.5750\n",
      "Epoch 28/100\n",
      "17/17 [==============================] - 2s 101ms/step - loss: 1.1729 - accuracy: 0.6380 - val_loss: 1.2297 - val_accuracy: 0.6000\n",
      "Epoch 29/100\n",
      "17/17 [==============================] - 2s 106ms/step - loss: 1.1322 - accuracy: 0.6509 - val_loss: 1.1926 - val_accuracy: 0.6250\n",
      "Epoch 30/100\n",
      "17/17 [==============================] - 2s 106ms/step - loss: 1.0933 - accuracy: 0.6602 - val_loss: 1.1580 - val_accuracy: 0.6250\n",
      "Epoch 31/100\n",
      "17/17 [==============================] - 2s 106ms/step - loss: 1.0560 - accuracy: 0.6704 - val_loss: 1.1279 - val_accuracy: 0.6333\n",
      "Epoch 32/100\n",
      "17/17 [==============================] - 2s 106ms/step - loss: 1.0217 - accuracy: 0.6861 - val_loss: 1.1006 - val_accuracy: 0.6250\n",
      "Epoch 33/100\n",
      "17/17 [==============================] - 2s 106ms/step - loss: 0.9908 - accuracy: 0.6815 - val_loss: 1.0733 - val_accuracy: 0.6250\n",
      "Epoch 34/100\n",
      "17/17 [==============================] - 2s 105ms/step - loss: 0.9623 - accuracy: 0.6917 - val_loss: 1.0505 - val_accuracy: 0.6333\n",
      "Epoch 35/100\n",
      "17/17 [==============================] - 2s 106ms/step - loss: 0.9358 - accuracy: 0.7000 - val_loss: 1.0316 - val_accuracy: 0.6333\n",
      "Epoch 36/100\n",
      "17/17 [==============================] - 2s 106ms/step - loss: 0.9125 - accuracy: 0.6954 - val_loss: 1.0119 - val_accuracy: 0.6333\n",
      "Epoch 37/100\n",
      "17/17 [==============================] - 2s 106ms/step - loss: 0.8907 - accuracy: 0.7046 - val_loss: 0.9940 - val_accuracy: 0.6333\n",
      "Epoch 38/100\n",
      "17/17 [==============================] - 2s 106ms/step - loss: 0.8701 - accuracy: 0.7120 - val_loss: 0.9803 - val_accuracy: 0.6333\n",
      "Epoch 39/100\n",
      "17/17 [==============================] - 2s 106ms/step - loss: 0.8519 - accuracy: 0.7176 - val_loss: 0.9665 - val_accuracy: 0.6333\n",
      "Epoch 40/100\n",
      "17/17 [==============================] - 2s 106ms/step - loss: 0.8349 - accuracy: 0.7250 - val_loss: 0.9561 - val_accuracy: 0.6333\n",
      "Epoch 41/100\n",
      "17/17 [==============================] - 2s 106ms/step - loss: 0.8187 - accuracy: 0.7296 - val_loss: 0.9435 - val_accuracy: 0.6250\n",
      "Epoch 42/100\n",
      "17/17 [==============================] - 2s 106ms/step - loss: 0.8034 - accuracy: 0.7333 - val_loss: 0.9330 - val_accuracy: 0.6250\n",
      "Epoch 43/100\n",
      "17/17 [==============================] - 2s 106ms/step - loss: 0.7891 - accuracy: 0.7380 - val_loss: 0.9243 - val_accuracy: 0.6333\n",
      "Epoch 44/100\n",
      "17/17 [==============================] - 2s 106ms/step - loss: 0.7760 - accuracy: 0.7435 - val_loss: 0.9172 - val_accuracy: 0.6333\n",
      "Epoch 45/100\n",
      "17/17 [==============================] - 2s 106ms/step - loss: 0.7640 - accuracy: 0.7481 - val_loss: 0.9109 - val_accuracy: 0.6250\n",
      "Epoch 46/100\n",
      "17/17 [==============================] - 2s 106ms/step - loss: 0.7525 - accuracy: 0.7556 - val_loss: 0.9003 - val_accuracy: 0.6333\n",
      "Epoch 47/100\n",
      "17/17 [==============================] - 2s 106ms/step - loss: 0.7413 - accuracy: 0.7593 - val_loss: 0.8940 - val_accuracy: 0.6333\n",
      "Epoch 48/100\n",
      "17/17 [==============================] - 2s 106ms/step - loss: 0.7309 - accuracy: 0.7620 - val_loss: 0.8872 - val_accuracy: 0.6333\n",
      "Epoch 49/100\n",
      "17/17 [==============================] - 2s 106ms/step - loss: 0.7210 - accuracy: 0.7667 - val_loss: 0.8808 - val_accuracy: 0.6417\n",
      "Epoch 50/100\n",
      "17/17 [==============================] - 2s 107ms/step - loss: 0.7118 - accuracy: 0.7657 - val_loss: 0.8756 - val_accuracy: 0.6500\n",
      "Epoch 51/100\n",
      "17/17 [==============================] - 2s 106ms/step - loss: 0.7022 - accuracy: 0.7731 - val_loss: 0.8671 - val_accuracy: 0.6500\n",
      "Epoch 52/100\n",
      "17/17 [==============================] - 2s 106ms/step - loss: 0.6938 - accuracy: 0.7750 - val_loss: 0.8646 - val_accuracy: 0.6500\n",
      "Epoch 53/100\n",
      "17/17 [==============================] - 2s 107ms/step - loss: 0.6854 - accuracy: 0.7796 - val_loss: 0.8584 - val_accuracy: 0.6583\n",
      "Epoch 54/100\n",
      "17/17 [==============================] - 2s 106ms/step - loss: 0.6777 - accuracy: 0.7806 - val_loss: 0.8537 - val_accuracy: 0.6583\n",
      "Epoch 55/100\n",
      "17/17 [==============================] - 2s 106ms/step - loss: 0.6693 - accuracy: 0.7843 - val_loss: 0.8468 - val_accuracy: 0.6583\n",
      "Epoch 56/100\n",
      "17/17 [==============================] - 2s 106ms/step - loss: 0.6612 - accuracy: 0.7907 - val_loss: 0.8386 - val_accuracy: 0.6667\n",
      "Epoch 57/100\n",
      "17/17 [==============================] - 2s 106ms/step - loss: 0.6547 - accuracy: 0.7917 - val_loss: 0.8364 - val_accuracy: 0.6583\n"
     ]
    },
    {
     "name": "stdout",
     "output_type": "stream",
     "text": [
      "Epoch 58/100\n",
      "17/17 [==============================] - 2s 106ms/step - loss: 0.6476 - accuracy: 0.7926 - val_loss: 0.8294 - val_accuracy: 0.6667\n",
      "Epoch 59/100\n",
      "17/17 [==============================] - 2s 106ms/step - loss: 0.6405 - accuracy: 0.7944 - val_loss: 0.8247 - val_accuracy: 0.6583\n",
      "Epoch 60/100\n",
      "17/17 [==============================] - 2s 106ms/step - loss: 0.6343 - accuracy: 0.7963 - val_loss: 0.8227 - val_accuracy: 0.6583\n",
      "Epoch 61/100\n",
      "17/17 [==============================] - 2s 102ms/step - loss: 0.6269 - accuracy: 0.7981 - val_loss: 0.8172 - val_accuracy: 0.6583\n",
      "Epoch 62/100\n",
      "17/17 [==============================] - 2s 106ms/step - loss: 0.6205 - accuracy: 0.7991 - val_loss: 0.8083 - val_accuracy: 0.6583\n",
      "Epoch 63/100\n",
      "17/17 [==============================] - 2s 102ms/step - loss: 0.6141 - accuracy: 0.8037 - val_loss: 0.8054 - val_accuracy: 0.6583\n",
      "Epoch 64/100\n",
      "17/17 [==============================] - 2s 106ms/step - loss: 0.6086 - accuracy: 0.8065 - val_loss: 0.7994 - val_accuracy: 0.6667\n",
      "Epoch 65/100\n",
      "17/17 [==============================] - 2s 102ms/step - loss: 0.6029 - accuracy: 0.8093 - val_loss: 0.7960 - val_accuracy: 0.6667\n",
      "Epoch 66/100\n",
      "17/17 [==============================] - 2s 106ms/step - loss: 0.5973 - accuracy: 0.8083 - val_loss: 0.7919 - val_accuracy: 0.6667\n",
      "Epoch 67/100\n",
      "17/17 [==============================] - 2s 106ms/step - loss: 0.5915 - accuracy: 0.8139 - val_loss: 0.7880 - val_accuracy: 0.6667\n",
      "Epoch 68/100\n",
      "17/17 [==============================] - 2s 106ms/step - loss: 0.5864 - accuracy: 0.8130 - val_loss: 0.7818 - val_accuracy: 0.6667\n",
      "Epoch 69/100\n",
      "17/17 [==============================] - 2s 106ms/step - loss: 0.5819 - accuracy: 0.8148 - val_loss: 0.7810 - val_accuracy: 0.6667\n",
      "Epoch 70/100\n",
      "17/17 [==============================] - 2s 106ms/step - loss: 0.5768 - accuracy: 0.8167 - val_loss: 0.7767 - val_accuracy: 0.6667\n",
      "Epoch 71/100\n",
      "17/17 [==============================] - 2s 107ms/step - loss: 0.5716 - accuracy: 0.8157 - val_loss: 0.7698 - val_accuracy: 0.6667\n",
      "Epoch 72/100\n",
      "17/17 [==============================] - 2s 106ms/step - loss: 0.5672 - accuracy: 0.8204 - val_loss: 0.7690 - val_accuracy: 0.6750\n",
      "Epoch 73/100\n",
      "17/17 [==============================] - 2s 107ms/step - loss: 0.5626 - accuracy: 0.8204 - val_loss: 0.7637 - val_accuracy: 0.6667\n",
      "Epoch 74/100\n",
      "17/17 [==============================] - 2s 106ms/step - loss: 0.5581 - accuracy: 0.8259 - val_loss: 0.7624 - val_accuracy: 0.6750\n",
      "Epoch 75/100\n",
      "17/17 [==============================] - 2s 111ms/step - loss: 0.5539 - accuracy: 0.8250 - val_loss: 0.7554 - val_accuracy: 0.6833\n",
      "Epoch 76/100\n",
      "17/17 [==============================] - 2s 106ms/step - loss: 0.5501 - accuracy: 0.8259 - val_loss: 0.7556 - val_accuracy: 0.6833\n",
      "Epoch 77/100\n",
      "17/17 [==============================] - 2s 106ms/step - loss: 0.5457 - accuracy: 0.8269 - val_loss: 0.7513 - val_accuracy: 0.6833\n",
      "Epoch 78/100\n",
      "17/17 [==============================] - 2s 106ms/step - loss: 0.5412 - accuracy: 0.8306 - val_loss: 0.7454 - val_accuracy: 0.6833\n",
      "Epoch 79/100\n",
      "17/17 [==============================] - 2s 106ms/step - loss: 0.5383 - accuracy: 0.8306 - val_loss: 0.7465 - val_accuracy: 0.6833\n",
      "Epoch 80/100\n",
      "17/17 [==============================] - 2s 106ms/step - loss: 0.5341 - accuracy: 0.8352 - val_loss: 0.7382 - val_accuracy: 0.7000\n",
      "Epoch 81/100\n",
      "17/17 [==============================] - 2s 106ms/step - loss: 0.5306 - accuracy: 0.8343 - val_loss: 0.7363 - val_accuracy: 0.7083\n",
      "Epoch 82/100\n",
      "17/17 [==============================] - 2s 106ms/step - loss: 0.5273 - accuracy: 0.8370 - val_loss: 0.7345 - val_accuracy: 0.7000\n",
      "Epoch 83/100\n",
      "17/17 [==============================] - 2s 111ms/step - loss: 0.5235 - accuracy: 0.8380 - val_loss: 0.7309 - val_accuracy: 0.7250\n",
      "Epoch 84/100\n",
      "17/17 [==============================] - 2s 106ms/step - loss: 0.5204 - accuracy: 0.8398 - val_loss: 0.7275 - val_accuracy: 0.7083\n",
      "Epoch 85/100\n",
      "17/17 [==============================] - 2s 106ms/step - loss: 0.5175 - accuracy: 0.8417 - val_loss: 0.7256 - val_accuracy: 0.7167\n",
      "Epoch 86/100\n",
      "17/17 [==============================] - 2s 106ms/step - loss: 0.5140 - accuracy: 0.8407 - val_loss: 0.7238 - val_accuracy: 0.7167\n",
      "Epoch 87/100\n",
      "17/17 [==============================] - 2s 106ms/step - loss: 0.5108 - accuracy: 0.8407 - val_loss: 0.7215 - val_accuracy: 0.7167\n",
      "Epoch 88/100\n",
      "17/17 [==============================] - 2s 106ms/step - loss: 0.5077 - accuracy: 0.8417 - val_loss: 0.7154 - val_accuracy: 0.7167\n",
      "Epoch 89/100\n",
      "17/17 [==============================] - 2s 106ms/step - loss: 0.5049 - accuracy: 0.8472 - val_loss: 0.7141 - val_accuracy: 0.7167\n",
      "Epoch 90/100\n",
      "17/17 [==============================] - 2s 106ms/step - loss: 0.5016 - accuracy: 0.8481 - val_loss: 0.7124 - val_accuracy: 0.7167\n",
      "Epoch 91/100\n",
      "17/17 [==============================] - 2s 106ms/step - loss: 0.4984 - accuracy: 0.8463 - val_loss: 0.7068 - val_accuracy: 0.7167\n",
      "Epoch 92/100\n",
      "17/17 [==============================] - 2s 107ms/step - loss: 0.4954 - accuracy: 0.8500 - val_loss: 0.7055 - val_accuracy: 0.7167\n",
      "Epoch 93/100\n",
      "17/17 [==============================] - 2s 106ms/step - loss: 0.4924 - accuracy: 0.8481 - val_loss: 0.7023 - val_accuracy: 0.7167\n",
      "Epoch 94/100\n",
      "17/17 [==============================] - 2s 106ms/step - loss: 0.4891 - accuracy: 0.8472 - val_loss: 0.6995 - val_accuracy: 0.7167\n",
      "Epoch 95/100\n",
      "17/17 [==============================] - 2s 106ms/step - loss: 0.4870 - accuracy: 0.8491 - val_loss: 0.6959 - val_accuracy: 0.7167\n",
      "Epoch 96/100\n",
      "17/17 [==============================] - 2s 106ms/step - loss: 0.4842 - accuracy: 0.8509 - val_loss: 0.6980 - val_accuracy: 0.7167\n",
      "Epoch 97/100\n",
      "17/17 [==============================] - 2s 106ms/step - loss: 0.4816 - accuracy: 0.8481 - val_loss: 0.6912 - val_accuracy: 0.7167\n",
      "Epoch 98/100\n",
      "17/17 [==============================] - 2s 101ms/step - loss: 0.4789 - accuracy: 0.8509 - val_loss: 0.6915 - val_accuracy: 0.7167\n",
      "Epoch 99/100\n",
      "17/17 [==============================] - 2s 106ms/step - loss: 0.4766 - accuracy: 0.8500 - val_loss: 0.6887 - val_accuracy: 0.7167\n",
      "Epoch 100/100\n",
      "17/17 [==============================] - 2s 106ms/step - loss: 0.4739 - accuracy: 0.8491 - val_loss: 0.6852 - val_accuracy: 0.7167\n"
     ]
    }
   ],
   "source": [
    "train_dataset = tf.data.Dataset.from_tensor_slices((X_train, Y_train)).batch(64)\n",
    "test_dataset = tf.data.Dataset.from_tensor_slices((X_test, Y_test)).batch(64)\n",
    "history = conv_model.fit(train_dataset, epochs=100, validation_data=test_dataset)"
   ]
  },
  {
   "cell_type": "markdown",
   "metadata": {},
   "source": [
    "<a name='5'></a>\n",
    "## 5 - History Object \n",
    "\n",
    "The history object is an output of the `.fit()` operation, and provides a record of all the loss and metric values in memory. It's stored as a dictionary that you can retrieve at `history.history`: "
   ]
  },
  {
   "cell_type": "code",
   "execution_count": 25,
   "metadata": {},
   "outputs": [
    {
     "data": {
      "text/plain": [
       "{'loss': [1.8124186992645264,\n",
       "  1.790040373802185,\n",
       "  1.7857359647750854,\n",
       "  1.7831286191940308,\n",
       "  1.7799763679504395,\n",
       "  1.7759206295013428,\n",
       "  1.7695237398147583,\n",
       "  1.7630852460861206,\n",
       "  1.7553406953811646,\n",
       "  1.7458584308624268,\n",
       "  1.7346231937408447,\n",
       "  1.7207207679748535,\n",
       "  1.7039021253585815,\n",
       "  1.6846367120742798,\n",
       "  1.6622487306594849,\n",
       "  1.637245535850525,\n",
       "  1.6102875471115112,\n",
       "  1.580781102180481,\n",
       "  1.5487831830978394,\n",
       "  1.5152643918991089,\n",
       "  1.478642225265503,\n",
       "  1.4373728036880493,\n",
       "  1.394429326057434,\n",
       "  1.3500196933746338,\n",
       "  1.3057199716567993,\n",
       "  1.2619836330413818,\n",
       "  1.2170268297195435,\n",
       "  1.1729350090026855,\n",
       "  1.1322375535964966,\n",
       "  1.093340277671814,\n",
       "  1.0560011863708496,\n",
       "  1.021720051765442,\n",
       "  0.9908245801925659,\n",
       "  0.962254524230957,\n",
       "  0.9358381032943726,\n",
       "  0.9125216007232666,\n",
       "  0.8906540274620056,\n",
       "  0.8701183199882507,\n",
       "  0.8518733978271484,\n",
       "  0.8349112272262573,\n",
       "  0.8186912536621094,\n",
       "  0.8034139275550842,\n",
       "  0.7891121506690979,\n",
       "  0.7759724855422974,\n",
       "  0.7639724016189575,\n",
       "  0.7524541020393372,\n",
       "  0.7412937879562378,\n",
       "  0.7308967709541321,\n",
       "  0.7210051417350769,\n",
       "  0.7117664813995361,\n",
       "  0.7022483348846436,\n",
       "  0.6938459277153015,\n",
       "  0.6854451298713684,\n",
       "  0.6776812076568604,\n",
       "  0.6693102121353149,\n",
       "  0.6612063050270081,\n",
       "  0.6547394394874573,\n",
       "  0.6476067900657654,\n",
       "  0.6404725909233093,\n",
       "  0.6343296766281128,\n",
       "  0.6269437074661255,\n",
       "  0.6205354928970337,\n",
       "  0.6140812039375305,\n",
       "  0.6086457967758179,\n",
       "  0.6029253602027893,\n",
       "  0.597272515296936,\n",
       "  0.5914825797080994,\n",
       "  0.5864322185516357,\n",
       "  0.58188396692276,\n",
       "  0.5768482089042664,\n",
       "  0.5716294050216675,\n",
       "  0.5672231316566467,\n",
       "  0.5626257061958313,\n",
       "  0.5581457018852234,\n",
       "  0.5538597702980042,\n",
       "  0.5500911474227905,\n",
       "  0.545656144618988,\n",
       "  0.5411686897277832,\n",
       "  0.5383130311965942,\n",
       "  0.5340756177902222,\n",
       "  0.5305734276771545,\n",
       "  0.5273470878601074,\n",
       "  0.5235105156898499,\n",
       "  0.5203747153282166,\n",
       "  0.517472505569458,\n",
       "  0.5139591693878174,\n",
       "  0.5107898116111755,\n",
       "  0.507670521736145,\n",
       "  0.5049084424972534,\n",
       "  0.5016453862190247,\n",
       "  0.4983743131160736,\n",
       "  0.49540603160858154,\n",
       "  0.4923764169216156,\n",
       "  0.48911720514297485,\n",
       "  0.4870499074459076,\n",
       "  0.4842047691345215,\n",
       "  0.4815974533557892,\n",
       "  0.4789365530014038,\n",
       "  0.4766036570072174,\n",
       "  0.473892480134964],\n",
       " 'accuracy': [0.1675925999879837,\n",
       "  0.16018518805503845,\n",
       "  0.1935185194015503,\n",
       "  0.2222222238779068,\n",
       "  0.24629630148410797,\n",
       "  0.2481481432914734,\n",
       "  0.26851850748062134,\n",
       "  0.29814815521240234,\n",
       "  0.32870370149612427,\n",
       "  0.35370370745658875,\n",
       "  0.3592592477798462,\n",
       "  0.375,\n",
       "  0.39629629254341125,\n",
       "  0.40925925970077515,\n",
       "  0.42314815521240234,\n",
       "  0.43518519401550293,\n",
       "  0.4583333432674408,\n",
       "  0.46851852536201477,\n",
       "  0.4842592477798462,\n",
       "  0.49537035822868347,\n",
       "  0.5166666507720947,\n",
       "  0.5379629731178284,\n",
       "  0.5583333373069763,\n",
       "  0.5898148417472839,\n",
       "  0.6027777791023254,\n",
       "  0.6138888597488403,\n",
       "  0.6305555701255798,\n",
       "  0.6379629373550415,\n",
       "  0.6509259343147278,\n",
       "  0.6601851582527161,\n",
       "  0.6703703999519348,\n",
       "  0.6861110925674438,\n",
       "  0.6814814805984497,\n",
       "  0.6916666626930237,\n",
       "  0.699999988079071,\n",
       "  0.6953703761100769,\n",
       "  0.7046296000480652,\n",
       "  0.7120370268821716,\n",
       "  0.7175925970077515,\n",
       "  0.7250000238418579,\n",
       "  0.729629635810852,\n",
       "  0.7333333492279053,\n",
       "  0.7379629611968994,\n",
       "  0.7435185313224792,\n",
       "  0.7481481432914734,\n",
       "  0.7555555701255798,\n",
       "  0.7592592835426331,\n",
       "  0.7620370388031006,\n",
       "  0.7666666507720947,\n",
       "  0.7657407522201538,\n",
       "  0.7731481194496155,\n",
       "  0.7749999761581421,\n",
       "  0.779629647731781,\n",
       "  0.7805555462837219,\n",
       "  0.7842592597007751,\n",
       "  0.7907407283782959,\n",
       "  0.7916666865348816,\n",
       "  0.7925925850868225,\n",
       "  0.7944444417953491,\n",
       "  0.7962962985038757,\n",
       "  0.7981481552124023,\n",
       "  0.7990740537643433,\n",
       "  0.8037037253379822,\n",
       "  0.8064814805984497,\n",
       "  0.8092592358589172,\n",
       "  0.8083333373069763,\n",
       "  0.8138889074325562,\n",
       "  0.8129629492759705,\n",
       "  0.8148148059844971,\n",
       "  0.8166666626930237,\n",
       "  0.8157407641410828,\n",
       "  0.8203703761100769,\n",
       "  0.8203703761100769,\n",
       "  0.8259259462356567,\n",
       "  0.824999988079071,\n",
       "  0.8259259462356567,\n",
       "  0.8268518447875977,\n",
       "  0.8305555582046509,\n",
       "  0.8305555582046509,\n",
       "  0.835185170173645,\n",
       "  0.8342592716217041,\n",
       "  0.8370370268821716,\n",
       "  0.8379629850387573,\n",
       "  0.8398148417472839,\n",
       "  0.8416666388511658,\n",
       "  0.8407407402992249,\n",
       "  0.8407407402992249,\n",
       "  0.8416666388511658,\n",
       "  0.8472222089767456,\n",
       "  0.8481481671333313,\n",
       "  0.8462963104248047,\n",
       "  0.8500000238418579,\n",
       "  0.8481481671333313,\n",
       "  0.8472222089767456,\n",
       "  0.8490740656852722,\n",
       "  0.8509259223937988,\n",
       "  0.8481481671333313,\n",
       "  0.8509259223937988,\n",
       "  0.8500000238418579,\n",
       "  0.8490740656852722],\n",
       " 'val_loss': [1.7932199239730835,\n",
       "  1.7880699634552002,\n",
       "  1.7857322692871094,\n",
       "  1.7828516960144043,\n",
       "  1.7797062397003174,\n",
       "  1.774481177330017,\n",
       "  1.7698631286621094,\n",
       "  1.7639938592910767,\n",
       "  1.7576136589050293,\n",
       "  1.7501487731933594,\n",
       "  1.739890456199646,\n",
       "  1.7272570133209229,\n",
       "  1.7113914489746094,\n",
       "  1.692984700202942,\n",
       "  1.6720268726348877,\n",
       "  1.6492257118225098,\n",
       "  1.624969244003296,\n",
       "  1.5999834537506104,\n",
       "  1.573325514793396,\n",
       "  1.5446244478225708,\n",
       "  1.512148380279541,\n",
       "  1.4750339984893799,\n",
       "  1.4340825080871582,\n",
       "  1.3916984796524048,\n",
       "  1.351465106010437,\n",
       "  1.309484839439392,\n",
       "  1.2685997486114502,\n",
       "  1.229662537574768,\n",
       "  1.1925626993179321,\n",
       "  1.1579725742340088,\n",
       "  1.1279200315475464,\n",
       "  1.1005734205245972,\n",
       "  1.0732592344284058,\n",
       "  1.0504887104034424,\n",
       "  1.0315622091293335,\n",
       "  1.0119296312332153,\n",
       "  0.9940268397331238,\n",
       "  0.9803455471992493,\n",
       "  0.9665181040763855,\n",
       "  0.9560829997062683,\n",
       "  0.9435451626777649,\n",
       "  0.9330282807350159,\n",
       "  0.9243180751800537,\n",
       "  0.9171582460403442,\n",
       "  0.9108684659004211,\n",
       "  0.9003452062606812,\n",
       "  0.8939669728279114,\n",
       "  0.8872334361076355,\n",
       "  0.8808479309082031,\n",
       "  0.8756049871444702,\n",
       "  0.8671454191207886,\n",
       "  0.8645946979522705,\n",
       "  0.8584451675415039,\n",
       "  0.8537425994873047,\n",
       "  0.8468325138092041,\n",
       "  0.8385845422744751,\n",
       "  0.8364466428756714,\n",
       "  0.8294328451156616,\n",
       "  0.8247348666191101,\n",
       "  0.8227277994155884,\n",
       "  0.8172096014022827,\n",
       "  0.8082572817802429,\n",
       "  0.8053706884384155,\n",
       "  0.7993777990341187,\n",
       "  0.7959863543510437,\n",
       "  0.7918645143508911,\n",
       "  0.787979781627655,\n",
       "  0.7817727327346802,\n",
       "  0.7809756398200989,\n",
       "  0.7767021059989929,\n",
       "  0.7698228359222412,\n",
       "  0.7689996361732483,\n",
       "  0.7637474536895752,\n",
       "  0.76237952709198,\n",
       "  0.7554124593734741,\n",
       "  0.7556127905845642,\n",
       "  0.7512958645820618,\n",
       "  0.7453750371932983,\n",
       "  0.7465196251869202,\n",
       "  0.7381945252418518,\n",
       "  0.7363177537918091,\n",
       "  0.7345000505447388,\n",
       "  0.7308670282363892,\n",
       "  0.7274938225746155,\n",
       "  0.7255645990371704,\n",
       "  0.7238003015518188,\n",
       "  0.7215359210968018,\n",
       "  0.7153704166412354,\n",
       "  0.7140682935714722,\n",
       "  0.7123863101005554,\n",
       "  0.7067642211914062,\n",
       "  0.7055234313011169,\n",
       "  0.7022504210472107,\n",
       "  0.6995459198951721,\n",
       "  0.6958931088447571,\n",
       "  0.6980019807815552,\n",
       "  0.6912336945533752,\n",
       "  0.6914863586425781,\n",
       "  0.6886937618255615,\n",
       "  0.6851876378059387],\n",
       " 'val_accuracy': [0.15833333134651184,\n",
       "  0.11666666716337204,\n",
       "  0.25,\n",
       "  0.20000000298023224,\n",
       "  0.18333333730697632,\n",
       "  0.22499999403953552,\n",
       "  0.22499999403953552,\n",
       "  0.30000001192092896,\n",
       "  0.30000001192092896,\n",
       "  0.3083333373069763,\n",
       "  0.3083333373069763,\n",
       "  0.3166666626930237,\n",
       "  0.34166666865348816,\n",
       "  0.3583333194255829,\n",
       "  0.36666667461395264,\n",
       "  0.3916666805744171,\n",
       "  0.4166666567325592,\n",
       "  0.4333333373069763,\n",
       "  0.4416666626930237,\n",
       "  0.4416666626930237,\n",
       "  0.42500001192092896,\n",
       "  0.4416666626930237,\n",
       "  0.4833333194255829,\n",
       "  0.5083333253860474,\n",
       "  0.550000011920929,\n",
       "  0.5583333373069763,\n",
       "  0.574999988079071,\n",
       "  0.6000000238418579,\n",
       "  0.625,\n",
       "  0.625,\n",
       "  0.6333333253860474,\n",
       "  0.625,\n",
       "  0.625,\n",
       "  0.6333333253860474,\n",
       "  0.6333333253860474,\n",
       "  0.6333333253860474,\n",
       "  0.6333333253860474,\n",
       "  0.6333333253860474,\n",
       "  0.6333333253860474,\n",
       "  0.6333333253860474,\n",
       "  0.625,\n",
       "  0.625,\n",
       "  0.6333333253860474,\n",
       "  0.6333333253860474,\n",
       "  0.625,\n",
       "  0.6333333253860474,\n",
       "  0.6333333253860474,\n",
       "  0.6333333253860474,\n",
       "  0.6416666507720947,\n",
       "  0.6499999761581421,\n",
       "  0.6499999761581421,\n",
       "  0.6499999761581421,\n",
       "  0.6583333611488342,\n",
       "  0.6583333611488342,\n",
       "  0.6583333611488342,\n",
       "  0.6666666865348816,\n",
       "  0.6583333611488342,\n",
       "  0.6666666865348816,\n",
       "  0.6583333611488342,\n",
       "  0.6583333611488342,\n",
       "  0.6583333611488342,\n",
       "  0.6583333611488342,\n",
       "  0.6583333611488342,\n",
       "  0.6666666865348816,\n",
       "  0.6666666865348816,\n",
       "  0.6666666865348816,\n",
       "  0.6666666865348816,\n",
       "  0.6666666865348816,\n",
       "  0.6666666865348816,\n",
       "  0.6666666865348816,\n",
       "  0.6666666865348816,\n",
       "  0.675000011920929,\n",
       "  0.6666666865348816,\n",
       "  0.675000011920929,\n",
       "  0.6833333373069763,\n",
       "  0.6833333373069763,\n",
       "  0.6833333373069763,\n",
       "  0.6833333373069763,\n",
       "  0.6833333373069763,\n",
       "  0.699999988079071,\n",
       "  0.7083333134651184,\n",
       "  0.699999988079071,\n",
       "  0.7250000238418579,\n",
       "  0.7083333134651184,\n",
       "  0.7166666388511658,\n",
       "  0.7166666388511658,\n",
       "  0.7166666388511658,\n",
       "  0.7166666388511658,\n",
       "  0.7166666388511658,\n",
       "  0.7166666388511658,\n",
       "  0.7166666388511658,\n",
       "  0.7166666388511658,\n",
       "  0.7166666388511658,\n",
       "  0.7166666388511658,\n",
       "  0.7166666388511658,\n",
       "  0.7166666388511658,\n",
       "  0.7166666388511658,\n",
       "  0.7166666388511658,\n",
       "  0.7166666388511658,\n",
       "  0.7166666388511658]}"
      ]
     },
     "execution_count": 25,
     "metadata": {},
     "output_type": "execute_result"
    }
   ],
   "source": [
    "history.history"
   ]
  },
  {
   "cell_type": "markdown",
   "metadata": {},
   "source": [
    "Now visualize the loss over time using `history.history`: "
   ]
  },
  {
   "cell_type": "code",
   "execution_count": 26,
   "metadata": {},
   "outputs": [
    {
     "data": {
      "text/plain": [
       "[Text(0, 0.5, 'Accuracy'), Text(0.5, 0, 'Epoch')]"
      ]
     },
     "execution_count": 26,
     "metadata": {},
     "output_type": "execute_result"
    },
    {
     "data": {
      "image/png": "[encoded data removed]",
      "text/plain": [
       "<Figure size 864x576 with 1 Axes>"
      ]
     },
     "metadata": {
      "needs_background": "light"
     },
     "output_type": "display_data"
    },
    {
     "data": {
      "image/png": "[encoded data removed]",
      "text/plain": [
       "<Figure size 864x576 with 1 Axes>"
      ]
     },
     "metadata": {
      "needs_background": "light"
     },
     "output_type": "display_data"
    }
   ],
   "source": [
    "# The history.history[\"loss\"] entry is a dictionary with as many values as epochs that the\n",
    "# model was trained on. \n",
    "df_loss_acc = pd.DataFrame(history.history)\n",
    "df_loss= df_loss_acc[['loss','val_loss']]\n",
    "df_loss.rename(columns={'loss':'train','val_loss':'validation'},inplace=True)\n",
    "df_acc= df_loss_acc[['accuracy','val_accuracy']]\n",
    "df_acc.rename(columns={'accuracy':'train','val_accuracy':'validation'},inplace=True)\n",
    "df_loss.plot(title='Model loss',figsize=(12,8)).set(xlabel='Epoch',ylabel='Loss')\n",
    "df_acc.plot(title='Model Accuracy',figsize=(12,8)).set(xlabel='Epoch',ylabel='Accuracy')"
   ]
  },
  {
   "cell_type": "markdown",
   "metadata": {},
   "source": [
    "**Congratulations**! You've finished the assignment and built two models: One that recognizes  smiles, and another that recognizes SIGN language with almost 80% accuracy on the test set. In addition to that, you now also understand the applications of two Keras APIs: Sequential and Functional. Nicely done! \n",
    "\n",
    "By now, you know a bit about how the Functional API works and may have glimpsed the possibilities. In your next assignment, you'll really get a feel for its power when you get the opportunity to build a very deep ConvNet, using ResNets! "
   ]
  },
  {
   "cell_type": "markdown",
   "metadata": {},
   "source": [
    "<a name='6'></a>\n",
    "## 6 - Bibliography\n",
    "\n",
    "You're always encouraged to read the official documentation. To that end, you can find the docs for the Sequential and Functional APIs here: \n",
    "\n",
    "https://www.tensorflow.org/guide/keras/sequential_model\n",
    "\n",
    "https://www.tensorflow.org/guide/keras/functional"
   ]
  }
 ],
 "metadata": {
  "coursera": {
   "course_slug": "convolutional-neural-networks",
   "graded_item_id": "bwbJV",
   "launcher_item_id": "0TkXB"
  },
  "kernelspec": {
   "display_name": "Python 3",
   "language": "python",
   "name": "python3"
  },
  "language_info": {
   "codemirror_mode": {
    "name": "ipython",
    "version": 3
   },
   "file_extension": ".py",
   "mimetype": "text/x-python",
   "name": "python",
   "nbconvert_exporter": "python",
   "pygments_lexer": "ipython3",
   "version": "3.7.6"
  }
 },
 "nbformat": 4,
 "nbformat_minor": 2
}
